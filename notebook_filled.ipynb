{
 "cells": [
  {
   "cell_type": "markdown",
   "id": "9dc8dfa9-6699-4d89-8e5c-3ae5f6d6594a",
   "metadata": {},
   "source": [
    "# environment setup\n",
    "\n",
    "### Requirements\n",
    "\n",
    "`Python>=3.9` with the following:\n",
    "\n",
    "```\n",
    "napari[pyQT5]\n",
    "napari-simpleitk-image-processing\n",
    "jupyterlab\n",
    "```\n",
    "\n",
    "and normally:\n",
    "\n",
    "```\n",
    "yt[full]\n",
    "yt-napari \n",
    "```\n",
    "\n",
    "(but not right now...)\n",
    "\n",
    "e.g., using pyenv-virtualenv\n",
    "\n",
    "```\n",
    "$ pyenv virtualenv 3.10.11 ytnapari_310\n",
    "$ pyenv activate ytnapari_310\n",
    "$ pip install -r requirements.txt\n",
    "```\n",
    "\n",
    "\n"
   ]
  },
  {
   "cell_type": "markdown",
   "id": "227a40b9-5bbe-4cc4-86f1-a50042684e29",
   "metadata": {},
   "source": [
    "\n",
    "# basic usage \n",
    "\n",
    "## standalone gui, gui overview \n",
    "\n",
    "from command line\n",
    "\n",
    "```\n",
    "$ napari\n",
    "```\n",
    "\n",
    "GUI overview: \n",
    "* top left, individual settings for a layer\n",
    "* bot left, list of available layers\n",
    "* right: the viewer\n",
    "\n",
    "Load a sample:\n",
    "\n",
    "    File -> Open Sample -> -> cells 3d (2 Channel) \n",
    "\n",
    "Point out the two layers \n",
    "\n",
    "2d view: bottom slider through 3rd dimension\n",
    "\n",
    "    adjust colormaps, limits of individual layers\n",
    "    final image on right controlled by blending of layers: top-down ordering of image layers \n",
    "\n",
    "Switch to 3d: \n",
    "\n",
    "    additional rendering optoins: mip, etc.\n",
    "    depiction: plane, shift click to drag\n",
    "\n",
    "# A quick image segmentation and sampling exercise\n"
   ]
  },
  {
   "cell_type": "code",
   "execution_count": 1,
   "id": "e851bafd-8007-459c-98ff-c93b76fad5b9",
   "metadata": {},
   "outputs": [
    {
     "name": "stdout",
     "output_type": "stream",
     "text": [
      "Assistant skips harvesting pyclesperanto as it's not installed.\n",
      "Napari status bar display of label properties disabled because https://github.com/napari/napari/issues/5417 and https://github.com/napari/napari/issues/4342\n"
     ]
    }
   ],
   "source": [
    "import napari\n",
    "v = napari.Viewer()"
   ]
  },
  {
   "cell_type": "code",
   "execution_count": null,
   "id": "3b7391d9-d2ce-406f-88f3-f455fae45914",
   "metadata": {},
   "outputs": [],
   "source": []
  },
  {
   "cell_type": "markdown",
   "id": "4d80ad88-885c-47b7-a94d-6ade52df1724",
   "metadata": {},
   "source": [
    "Load a sample:\n",
    "\n",
    "    File -> Open Sample -> -> cells 3d (2 Channel) \n",
    "\n",
    "\n",
    "Create a labeled image: void detection on the membrane layer \n",
    "\n",
    "    tools -> filtering -> rescale 0/1\n",
    "    tools -> segmentation/labeling -> morphological watersheld on rescaled membrane, 0.01 isn't bad... \n",
    "    click on labels layer, check show selected, click through in 3d to see the different labels \n",
    "    tools -> measurement tables -> object feature properties (scikit-image)\n",
    "    click intensity, select nuclei \n",
    "    "
   ]
  },
  {
   "cell_type": "code",
   "execution_count": 2,
   "id": "b8accbcf-e68c-4908-8dd3-1b1171dadcca",
   "metadata": {},
   "outputs": [
    {
     "data": {
      "text/plain": [
       "[<Image layer 'membrane' at 0x7f9fa92950d0>, <Image layer 'nuclei' at 0x7f9fa8e2ee80>, <Image layer 'Result of rescale_intensity' at 0x7f9fa575fe80>, <Labels layer 'Result of morphological_watershed' at 0x7f9fa8bcdc40>]"
      ]
     },
     "execution_count": 2,
     "metadata": {},
     "output_type": "execute_result"
    }
   ],
   "source": [
    "v.layers"
   ]
  },
  {
   "cell_type": "code",
   "execution_count": 3,
   "id": "b36893a1-c7fd-414e-bbcf-0dd42d150f6f",
   "metadata": {},
   "outputs": [],
   "source": [
    "result = v.layers[-1]"
   ]
  },
  {
   "cell_type": "code",
   "execution_count": 4,
   "id": "47e9fc57-39c0-4aac-a002-9b25fb550a0e",
   "metadata": {},
   "outputs": [
    {
     "data": {
      "text/plain": [
       "dict_keys(['label', 'max_intensity', 'mean_intensity', 'min_intensity', 'standard_deviation_intensity', 'index'])"
      ]
     },
     "execution_count": 4,
     "metadata": {},
     "output_type": "execute_result"
    }
   ],
   "source": [
    "result.properties.keys()"
   ]
  },
  {
   "cell_type": "code",
   "execution_count": 5,
   "id": "14b28075-3085-4b30-9dfd-74776b398240",
   "metadata": {},
   "outputs": [
    {
     "data": {
      "text/html": [
       "<div>\n",
       "<style scoped>\n",
       "    .dataframe tbody tr th:only-of-type {\n",
       "        vertical-align: middle;\n",
       "    }\n",
       "\n",
       "    .dataframe tbody tr th {\n",
       "        vertical-align: top;\n",
       "    }\n",
       "\n",
       "    .dataframe thead th {\n",
       "        text-align: right;\n",
       "    }\n",
       "</style>\n",
       "<table border=\"1\" class=\"dataframe\">\n",
       "  <thead>\n",
       "    <tr style=\"text-align: right;\">\n",
       "      <th></th>\n",
       "      <th>label</th>\n",
       "      <th>max_intensity</th>\n",
       "      <th>mean_intensity</th>\n",
       "      <th>min_intensity</th>\n",
       "      <th>standard_deviation_intensity</th>\n",
       "      <th>index</th>\n",
       "    </tr>\n",
       "  </thead>\n",
       "  <tbody>\n",
       "    <tr>\n",
       "      <th>0</th>\n",
       "      <td>1</td>\n",
       "      <td>35686.0</td>\n",
       "      <td>2685.205339</td>\n",
       "      <td>808.0</td>\n",
       "      <td>1461.423026</td>\n",
       "      <td>1</td>\n",
       "    </tr>\n",
       "    <tr>\n",
       "      <th>1</th>\n",
       "      <td>2</td>\n",
       "      <td>21480.0</td>\n",
       "      <td>2869.887147</td>\n",
       "      <td>868.0</td>\n",
       "      <td>1393.035166</td>\n",
       "      <td>2</td>\n",
       "    </tr>\n",
       "    <tr>\n",
       "      <th>2</th>\n",
       "      <td>3</td>\n",
       "      <td>9549.0</td>\n",
       "      <td>2175.639100</td>\n",
       "      <td>461.0</td>\n",
       "      <td>1130.921289</td>\n",
       "      <td>3</td>\n",
       "    </tr>\n",
       "    <tr>\n",
       "      <th>3</th>\n",
       "      <td>4</td>\n",
       "      <td>28211.0</td>\n",
       "      <td>4297.006995</td>\n",
       "      <td>2180.0</td>\n",
       "      <td>2058.409979</td>\n",
       "      <td>4</td>\n",
       "    </tr>\n",
       "    <tr>\n",
       "      <th>4</th>\n",
       "      <td>5</td>\n",
       "      <td>26461.0</td>\n",
       "      <td>4197.802721</td>\n",
       "      <td>2095.0</td>\n",
       "      <td>1755.581076</td>\n",
       "      <td>5</td>\n",
       "    </tr>\n",
       "    <tr>\n",
       "      <th>...</th>\n",
       "      <td>...</td>\n",
       "      <td>...</td>\n",
       "      <td>...</td>\n",
       "      <td>...</td>\n",
       "      <td>...</td>\n",
       "      <td>...</td>\n",
       "    </tr>\n",
       "    <tr>\n",
       "      <th>158</th>\n",
       "      <td>159</td>\n",
       "      <td>10349.0</td>\n",
       "      <td>5253.756098</td>\n",
       "      <td>3167.0</td>\n",
       "      <td>1576.353535</td>\n",
       "      <td>159</td>\n",
       "    </tr>\n",
       "    <tr>\n",
       "      <th>159</th>\n",
       "      <td>160</td>\n",
       "      <td>13503.0</td>\n",
       "      <td>5715.134969</td>\n",
       "      <td>2198.0</td>\n",
       "      <td>2915.814867</td>\n",
       "      <td>160</td>\n",
       "    </tr>\n",
       "    <tr>\n",
       "      <th>160</th>\n",
       "      <td>161</td>\n",
       "      <td>23717.0</td>\n",
       "      <td>6230.320856</td>\n",
       "      <td>2781.0</td>\n",
       "      <td>2881.632131</td>\n",
       "      <td>161</td>\n",
       "    </tr>\n",
       "    <tr>\n",
       "      <th>161</th>\n",
       "      <td>162</td>\n",
       "      <td>42948.0</td>\n",
       "      <td>1798.602978</td>\n",
       "      <td>0.0</td>\n",
       "      <td>1247.637894</td>\n",
       "      <td>162</td>\n",
       "    </tr>\n",
       "    <tr>\n",
       "      <th>162</th>\n",
       "      <td>163</td>\n",
       "      <td>13648.0</td>\n",
       "      <td>6469.227848</td>\n",
       "      <td>3361.0</td>\n",
       "      <td>2099.724237</td>\n",
       "      <td>163</td>\n",
       "    </tr>\n",
       "  </tbody>\n",
       "</table>\n",
       "<p>163 rows × 6 columns</p>\n",
       "</div>"
      ],
      "text/plain": [
       "     label  max_intensity  mean_intensity  min_intensity  \\\n",
       "0        1        35686.0     2685.205339          808.0   \n",
       "1        2        21480.0     2869.887147          868.0   \n",
       "2        3         9549.0     2175.639100          461.0   \n",
       "3        4        28211.0     4297.006995         2180.0   \n",
       "4        5        26461.0     4197.802721         2095.0   \n",
       "..     ...            ...             ...            ...   \n",
       "158    159        10349.0     5253.756098         3167.0   \n",
       "159    160        13503.0     5715.134969         2198.0   \n",
       "160    161        23717.0     6230.320856         2781.0   \n",
       "161    162        42948.0     1798.602978            0.0   \n",
       "162    163        13648.0     6469.227848         3361.0   \n",
       "\n",
       "     standard_deviation_intensity  index  \n",
       "0                     1461.423026      1  \n",
       "1                     1393.035166      2  \n",
       "2                     1130.921289      3  \n",
       "3                     2058.409979      4  \n",
       "4                     1755.581076      5  \n",
       "..                            ...    ...  \n",
       "158                   1576.353535    159  \n",
       "159                   2915.814867    160  \n",
       "160                   2881.632131    161  \n",
       "161                   1247.637894    162  \n",
       "162                   2099.724237    163  \n",
       "\n",
       "[163 rows x 6 columns]"
      ]
     },
     "execution_count": 5,
     "metadata": {},
     "output_type": "execute_result"
    }
   ],
   "source": [
    "import pandas as pd \n",
    "\n",
    "df = pd.DataFrame(result.properties)\n",
    "df"
   ]
  },
  {
   "cell_type": "markdown",
   "id": "cbefecb4-52a3-4459-9d98-f74cb55cac30",
   "metadata": {},
   "source": [
    "# anatomy of a plugin: yt-napari \n",
    "\n",
    "yt-napari: \n",
    "\n",
    "load data into napari from yt\n",
    "yt-napari: creates samples of yt datasets, loads in as image arrays\n",
    "\n",
    "* json loader\n",
    "* GUI loader\n",
    "* additional notebook helper functions"
   ]
  },
  {
   "cell_type": "code",
   "execution_count": 6,
   "id": "014f1858-ba32-484e-9ddd-65c8c71cdff8",
   "metadata": {
    "scrolled": true
   },
   "outputs": [
    {
     "name": "stderr",
     "output_type": "stream",
     "text": [
      "yt : [INFO     ] 2024-02-09 10:18:18,746 Parameters: current_time              = 0.0060000200028298\n",
      "yt : [INFO     ] 2024-02-09 10:18:18,746 Parameters: domain_dimensions         = [32 32 32]\n",
      "yt : [INFO     ] 2024-02-09 10:18:18,747 Parameters: domain_left_edge          = [0. 0. 0.]\n",
      "yt : [INFO     ] 2024-02-09 10:18:18,748 Parameters: domain_right_edge         = [1. 1. 1.]\n",
      "yt : [INFO     ] 2024-02-09 10:18:18,748 Parameters: cosmological_simulation   = 0\n",
      "\n",
      "Parsing Hierarchy :   0%|                                                                           | 0/173 [00:00<?, ?it/s]\u001b[A\n",
      "Parsing Hierarchy : 100%|███████████████████████████████████████████████████████████████| 173/173 [00:00<00:00, 1370.57it/s]\u001b[A\n",
      "yt : [INFO     ] 2024-02-09 10:18:18,886 Gathering a field list (this may take a moment.)\n"
     ]
    }
   ],
   "source": [
    "v.layers.clear()"
   ]
  },
  {
   "cell_type": "markdown",
   "id": "eeae2132-00c9-4d93-b7d7-48b499b487c7",
   "metadata": {},
   "source": [
    "look at the json\n",
    "\n",
    "working with simulation data, **not** strict image data. \n",
    "\n",
    "So the JSON here specifies, not just a file, but information on how to sample from that file. "
   ]
  },
  {
   "cell_type": "code",
   "execution_count": null,
   "id": "a99d2b14-d380-49a1-9a34-3a40b4e05c0a",
   "metadata": {},
   "outputs": [],
   "source": []
  }
 ],
 "metadata": {
  "kernelspec": {
   "display_name": "Python 3 (ipykernel)",
   "language": "python",
   "name": "python3"
  },
  "language_info": {
   "codemirror_mode": {
    "name": "ipython",
    "version": 3
   },
   "file_extension": ".py",
   "mimetype": "text/x-python",
   "name": "python",
   "nbconvert_exporter": "python",
   "pygments_lexer": "ipython3",
   "version": "3.9.16"
  }
 },
 "nbformat": 4,
 "nbformat_minor": 5
}
