{
 "cells": [
  {
   "cell_type": "markdown",
   "id": "9dc8dfa9-6699-4d89-8e5c-3ae5f6d6594a",
   "metadata": {},
   "source": [
    "# environment setup\n",
    "\n",
    "### Requirements\n",
    "\n",
    "`Python>=3.9` with the following:\n",
    "\n",
    "```\n",
    "napari[pyQT5]\n",
    "napari-simpleitk-image-processing\n",
    "jupyterlab\n",
    "```\n",
    "\n",
    "and normally:\n",
    "\n",
    "```\n",
    "yt[full]\n",
    "yt-napari \n",
    "```\n",
    "\n",
    "(but not right now...)\n",
    "\n",
    "e.g., using pyenv-virtualenv\n",
    "\n",
    "```\n",
    "$ pyenv virtualenv 3.10.11 ytnapari_310\n",
    "$ pyenv activate ytnapari_310\n",
    "$ pip install -r requirements.txt\n",
    "```\n",
    "\n",
    "\n"
   ]
  },
  {
   "cell_type": "markdown",
   "id": "227a40b9-5bbe-4cc4-86f1-a50042684e29",
   "metadata": {},
   "source": [
    "\n",
    "# basic usage \n",
    "\n",
    "## standalone gui, gui overview \n",
    "\n",
    "from command line\n",
    "\n",
    "```\n",
    "$ napari\n",
    "```\n",
    "\n",
    "# A quick image segmentation and sampling exercise\n",
    "  "
   ]
  },
  {
   "cell_type": "code",
   "execution_count": null,
   "id": "e851bafd-8007-459c-98ff-c93b76fad5b9",
   "metadata": {},
   "outputs": [],
   "source": []
  },
  {
   "cell_type": "code",
   "execution_count": null,
   "id": "ea8cf500-af1c-4f17-9631-1c2716bce535",
   "metadata": {},
   "outputs": [],
   "source": []
  },
  {
   "cell_type": "code",
   "execution_count": null,
   "id": "dfc86866-7d93-4b85-9b81-d333377388b6",
   "metadata": {},
   "outputs": [],
   "source": []
  },
  {
   "cell_type": "code",
   "execution_count": null,
   "id": "39956429-a0cb-43ed-a917-279f028820b2",
   "metadata": {},
   "outputs": [],
   "source": []
  },
  {
   "cell_type": "code",
   "execution_count": null,
   "id": "1d84a786-ebb1-448f-98c6-9914815b26b3",
   "metadata": {},
   "outputs": [],
   "source": []
  },
  {
   "cell_type": "code",
   "execution_count": null,
   "id": "9673e817-416b-42bd-849a-4906e3ed4563",
   "metadata": {},
   "outputs": [],
   "source": []
  },
  {
   "cell_type": "code",
   "execution_count": null,
   "id": "c075a0ab-af7b-4461-a2f4-ac628df42a31",
   "metadata": {},
   "outputs": [],
   "source": []
  },
  {
   "cell_type": "code",
   "execution_count": null,
   "id": "af2df76d-2d71-4715-aa79-92ed12fc665d",
   "metadata": {},
   "outputs": [],
   "source": []
  },
  {
   "cell_type": "code",
   "execution_count": null,
   "id": "649bfc23-4b68-403c-be7b-f9e865feb7a2",
   "metadata": {},
   "outputs": [],
   "source": []
  },
  {
   "cell_type": "code",
   "execution_count": null,
   "id": "3b7391d9-d2ce-406f-88f3-f455fae45914",
   "metadata": {},
   "outputs": [],
   "source": []
  },
  {
   "cell_type": "markdown",
   "id": "cbefecb4-52a3-4459-9d98-f74cb55cac30",
   "metadata": {},
   "source": [
    "# anatomy of a plugin: yt-napari \n",
    "\n",
    "yt-napari: \n",
    "\n",
    "load data into napari from yt\n",
    "\n",
    "yt-napari: creates samples of yt datasets, loads in as image arrays\n",
    "\n",
    "multiple plugins:\n",
    "* json loader (a napari Reader plugin)\n",
    "* GUI loaders (a napari Widget plugin)\n",
    "* additional notebook helper functions"
   ]
  },
  {
   "cell_type": "code",
   "execution_count": null,
   "id": "014f1858-ba32-484e-9ddd-65c8c71cdff8",
   "metadata": {
    "scrolled": true
   },
   "outputs": [],
   "source": []
  }
 ],
 "metadata": {
  "kernelspec": {
   "display_name": "Python 3 (ipykernel)",
   "language": "python",
   "name": "python3"
  },
  "language_info": {
   "codemirror_mode": {
    "name": "ipython",
    "version": 3
   },
   "file_extension": ".py",
   "mimetype": "text/x-python",
   "name": "python",
   "nbconvert_exporter": "python",
   "pygments_lexer": "ipython3",
   "version": "3.9.16"
  }
 },
 "nbformat": 4,
 "nbformat_minor": 5
}
